{
 "cells": [
  {
   "cell_type": "markdown",
   "id": "c9ac3dcf",
   "metadata": {},
   "source": [
    "# Import necessary packages"
   ]
  },
  {
   "cell_type": "code",
   "execution_count": 1,
   "id": "8182c277",
   "metadata": {},
   "outputs": [],
   "source": [
    "import numpy as np\n",
    "import pandas as pd\n",
    "import matplotlib.pyplot as plt\n",
    "import seaborn as sns"
   ]
  },
  {
   "cell_type": "code",
   "execution_count": 2,
   "id": "afb0818f",
   "metadata": {},
   "outputs": [],
   "source": [
    "df = pd.read_csv(r\"C:\\Users\\ASUS\\Downloads\\enron_spam_data.csv\")"
   ]
  },
  {
   "cell_type": "code",
   "execution_count": 3,
   "id": "de1c973b",
   "metadata": {},
   "outputs": [
    {
     "data": {
      "text/html": [
       "<div>\n",
       "<style scoped>\n",
       "    .dataframe tbody tr th:only-of-type {\n",
       "        vertical-align: middle;\n",
       "    }\n",
       "\n",
       "    .dataframe tbody tr th {\n",
       "        vertical-align: top;\n",
       "    }\n",
       "\n",
       "    .dataframe thead th {\n",
       "        text-align: right;\n",
       "    }\n",
       "</style>\n",
       "<table border=\"1\" class=\"dataframe\">\n",
       "  <thead>\n",
       "    <tr style=\"text-align: right;\">\n",
       "      <th></th>\n",
       "      <th>Message ID</th>\n",
       "      <th>Subject</th>\n",
       "      <th>Message</th>\n",
       "      <th>Spam/Ham</th>\n",
       "      <th>Date</th>\n",
       "    </tr>\n",
       "  </thead>\n",
       "  <tbody>\n",
       "    <tr>\n",
       "      <th>0</th>\n",
       "      <td>0</td>\n",
       "      <td>christmas tree farm pictures</td>\n",
       "      <td>NaN</td>\n",
       "      <td>ham</td>\n",
       "      <td>1999-12-10</td>\n",
       "    </tr>\n",
       "    <tr>\n",
       "      <th>1</th>\n",
       "      <td>1</td>\n",
       "      <td>vastar resources , inc .</td>\n",
       "      <td>gary , production from the high island larger ...</td>\n",
       "      <td>ham</td>\n",
       "      <td>1999-12-13</td>\n",
       "    </tr>\n",
       "    <tr>\n",
       "      <th>2</th>\n",
       "      <td>2</td>\n",
       "      <td>calpine daily gas nomination</td>\n",
       "      <td>- calpine daily gas nomination 1 . doc</td>\n",
       "      <td>ham</td>\n",
       "      <td>1999-12-14</td>\n",
       "    </tr>\n",
       "    <tr>\n",
       "      <th>3</th>\n",
       "      <td>3</td>\n",
       "      <td>re : issue</td>\n",
       "      <td>fyi - see note below - already done .\\nstella\\...</td>\n",
       "      <td>ham</td>\n",
       "      <td>1999-12-14</td>\n",
       "    </tr>\n",
       "    <tr>\n",
       "      <th>4</th>\n",
       "      <td>4</td>\n",
       "      <td>meter 7268 nov allocation</td>\n",
       "      <td>fyi .\\n- - - - - - - - - - - - - - - - - - - -...</td>\n",
       "      <td>ham</td>\n",
       "      <td>1999-12-14</td>\n",
       "    </tr>\n",
       "    <tr>\n",
       "      <th>...</th>\n",
       "      <td>...</td>\n",
       "      <td>...</td>\n",
       "      <td>...</td>\n",
       "      <td>...</td>\n",
       "      <td>...</td>\n",
       "    </tr>\n",
       "    <tr>\n",
       "      <th>33711</th>\n",
       "      <td>33711</td>\n",
       "      <td>= ? iso - 8859 - 1 ? q ? good _ news _ c = eda...</td>\n",
       "      <td>hello , welcome to gigapharm onlinne shop .\\np...</td>\n",
       "      <td>spam</td>\n",
       "      <td>2005-07-29</td>\n",
       "    </tr>\n",
       "    <tr>\n",
       "      <th>33712</th>\n",
       "      <td>33712</td>\n",
       "      <td>all prescript medicines are on special . to be...</td>\n",
       "      <td>i got it earlier than expected and it was wrap...</td>\n",
       "      <td>spam</td>\n",
       "      <td>2005-07-29</td>\n",
       "    </tr>\n",
       "    <tr>\n",
       "      <th>33713</th>\n",
       "      <td>33713</td>\n",
       "      <td>the next generation online pharmacy .</td>\n",
       "      <td>are you ready to rock on ? let the man in you ...</td>\n",
       "      <td>spam</td>\n",
       "      <td>2005-07-30</td>\n",
       "    </tr>\n",
       "    <tr>\n",
       "      <th>33714</th>\n",
       "      <td>33714</td>\n",
       "      <td>bloow in 5 - 10 times the time</td>\n",
       "      <td>learn how to last 5 - 10 times longer in\\nbed ...</td>\n",
       "      <td>spam</td>\n",
       "      <td>2005-07-30</td>\n",
       "    </tr>\n",
       "    <tr>\n",
       "      <th>33715</th>\n",
       "      <td>33715</td>\n",
       "      <td>dear sir , i am interested in it</td>\n",
       "      <td>hi : )\\ndo you need some softwares ? i can giv...</td>\n",
       "      <td>spam</td>\n",
       "      <td>2005-07-31</td>\n",
       "    </tr>\n",
       "  </tbody>\n",
       "</table>\n",
       "<p>33716 rows × 5 columns</p>\n",
       "</div>"
      ],
      "text/plain": [
       "       Message ID                                            Subject  \\\n",
       "0               0                       christmas tree farm pictures   \n",
       "1               1                           vastar resources , inc .   \n",
       "2               2                       calpine daily gas nomination   \n",
       "3               3                                         re : issue   \n",
       "4               4                          meter 7268 nov allocation   \n",
       "...           ...                                                ...   \n",
       "33711       33711  = ? iso - 8859 - 1 ? q ? good _ news _ c = eda...   \n",
       "33712       33712  all prescript medicines are on special . to be...   \n",
       "33713       33713              the next generation online pharmacy .   \n",
       "33714       33714                     bloow in 5 - 10 times the time   \n",
       "33715       33715                   dear sir , i am interested in it   \n",
       "\n",
       "                                                 Message Spam/Ham        Date  \n",
       "0                                                    NaN      ham  1999-12-10  \n",
       "1      gary , production from the high island larger ...      ham  1999-12-13  \n",
       "2                 - calpine daily gas nomination 1 . doc      ham  1999-12-14  \n",
       "3      fyi - see note below - already done .\\nstella\\...      ham  1999-12-14  \n",
       "4      fyi .\\n- - - - - - - - - - - - - - - - - - - -...      ham  1999-12-14  \n",
       "...                                                  ...      ...         ...  \n",
       "33711  hello , welcome to gigapharm onlinne shop .\\np...     spam  2005-07-29  \n",
       "33712  i got it earlier than expected and it was wrap...     spam  2005-07-29  \n",
       "33713  are you ready to rock on ? let the man in you ...     spam  2005-07-30  \n",
       "33714  learn how to last 5 - 10 times longer in\\nbed ...     spam  2005-07-30  \n",
       "33715  hi : )\\ndo you need some softwares ? i can giv...     spam  2005-07-31  \n",
       "\n",
       "[33716 rows x 5 columns]"
      ]
     },
     "execution_count": 3,
     "metadata": {},
     "output_type": "execute_result"
    }
   ],
   "source": [
    "df"
   ]
  },
  {
   "cell_type": "code",
   "execution_count": 4,
   "id": "c6a44d93",
   "metadata": {},
   "outputs": [
    {
     "data": {
      "text/html": [
       "<div>\n",
       "<style scoped>\n",
       "    .dataframe tbody tr th:only-of-type {\n",
       "        vertical-align: middle;\n",
       "    }\n",
       "\n",
       "    .dataframe tbody tr th {\n",
       "        vertical-align: top;\n",
       "    }\n",
       "\n",
       "    .dataframe thead th {\n",
       "        text-align: right;\n",
       "    }\n",
       "</style>\n",
       "<table border=\"1\" class=\"dataframe\">\n",
       "  <thead>\n",
       "    <tr style=\"text-align: right;\">\n",
       "      <th></th>\n",
       "      <th>Message ID</th>\n",
       "    </tr>\n",
       "  </thead>\n",
       "  <tbody>\n",
       "    <tr>\n",
       "      <th>count</th>\n",
       "      <td>33716.000000</td>\n",
       "    </tr>\n",
       "    <tr>\n",
       "      <th>mean</th>\n",
       "      <td>16857.500000</td>\n",
       "    </tr>\n",
       "    <tr>\n",
       "      <th>std</th>\n",
       "      <td>9733.115174</td>\n",
       "    </tr>\n",
       "    <tr>\n",
       "      <th>min</th>\n",
       "      <td>0.000000</td>\n",
       "    </tr>\n",
       "    <tr>\n",
       "      <th>25%</th>\n",
       "      <td>8428.750000</td>\n",
       "    </tr>\n",
       "    <tr>\n",
       "      <th>50%</th>\n",
       "      <td>16857.500000</td>\n",
       "    </tr>\n",
       "    <tr>\n",
       "      <th>75%</th>\n",
       "      <td>25286.250000</td>\n",
       "    </tr>\n",
       "    <tr>\n",
       "      <th>max</th>\n",
       "      <td>33715.000000</td>\n",
       "    </tr>\n",
       "  </tbody>\n",
       "</table>\n",
       "</div>"
      ],
      "text/plain": [
       "         Message ID\n",
       "count  33716.000000\n",
       "mean   16857.500000\n",
       "std     9733.115174\n",
       "min        0.000000\n",
       "25%     8428.750000\n",
       "50%    16857.500000\n",
       "75%    25286.250000\n",
       "max    33715.000000"
      ]
     },
     "execution_count": 4,
     "metadata": {},
     "output_type": "execute_result"
    }
   ],
   "source": [
    "df.describe()"
   ]
  },
  {
   "cell_type": "code",
   "execution_count": 5,
   "id": "ce2a7764",
   "metadata": {},
   "outputs": [
    {
     "name": "stdout",
     "output_type": "stream",
     "text": [
      "<class 'pandas.core.frame.DataFrame'>\n",
      "RangeIndex: 33716 entries, 0 to 33715\n",
      "Data columns (total 5 columns):\n",
      " #   Column      Non-Null Count  Dtype \n",
      "---  ------      --------------  ----- \n",
      " 0   Message ID  33716 non-null  int64 \n",
      " 1   Subject     33427 non-null  object\n",
      " 2   Message     33345 non-null  object\n",
      " 3   Spam/Ham    33716 non-null  object\n",
      " 4   Date        33716 non-null  object\n",
      "dtypes: int64(1), object(4)\n",
      "memory usage: 1.3+ MB\n"
     ]
    }
   ],
   "source": [
    "df.info()"
   ]
  },
  {
   "cell_type": "markdown",
   "id": "c167e87a",
   "metadata": {},
   "source": [
    "## Handle missing values"
   ]
  },
  {
   "cell_type": "code",
   "execution_count": 6,
   "id": "60a05a36",
   "metadata": {},
   "outputs": [
    {
     "data": {
      "text/plain": [
       "Message ID      0\n",
       "Subject       289\n",
       "Message       371\n",
       "Spam/Ham        0\n",
       "Date            0\n",
       "dtype: int64"
      ]
     },
     "execution_count": 6,
     "metadata": {},
     "output_type": "execute_result"
    }
   ],
   "source": [
    "df.isna().sum()"
   ]
  },
  {
   "cell_type": "code",
   "execution_count": 7,
   "id": "0d272814",
   "metadata": {},
   "outputs": [],
   "source": [
    "df.dropna(inplace=True)"
   ]
  },
  {
   "cell_type": "code",
   "execution_count": 8,
   "id": "e2811a74",
   "metadata": {},
   "outputs": [
    {
     "data": {
      "text/plain": [
       "Message ID    0\n",
       "Subject       0\n",
       "Message       0\n",
       "Spam/Ham      0\n",
       "Date          0\n",
       "dtype: int64"
      ]
     },
     "execution_count": 8,
     "metadata": {},
     "output_type": "execute_result"
    }
   ],
   "source": [
    "df.isna().sum()"
   ]
  },
  {
   "cell_type": "code",
   "execution_count": 9,
   "id": "a2c5aa21",
   "metadata": {},
   "outputs": [
    {
     "data": {
      "text/html": [
       "<div>\n",
       "<style scoped>\n",
       "    .dataframe tbody tr th:only-of-type {\n",
       "        vertical-align: middle;\n",
       "    }\n",
       "\n",
       "    .dataframe tbody tr th {\n",
       "        vertical-align: top;\n",
       "    }\n",
       "\n",
       "    .dataframe thead th {\n",
       "        text-align: right;\n",
       "    }\n",
       "</style>\n",
       "<table border=\"1\" class=\"dataframe\">\n",
       "  <thead>\n",
       "    <tr style=\"text-align: right;\">\n",
       "      <th></th>\n",
       "      <th>Message ID</th>\n",
       "      <th>Subject</th>\n",
       "      <th>Message</th>\n",
       "      <th>Spam/Ham</th>\n",
       "      <th>Date</th>\n",
       "    </tr>\n",
       "  </thead>\n",
       "  <tbody>\n",
       "    <tr>\n",
       "      <th>1</th>\n",
       "      <td>1</td>\n",
       "      <td>vastar resources , inc .</td>\n",
       "      <td>gary , production from the high island larger ...</td>\n",
       "      <td>ham</td>\n",
       "      <td>1999-12-13</td>\n",
       "    </tr>\n",
       "    <tr>\n",
       "      <th>2</th>\n",
       "      <td>2</td>\n",
       "      <td>calpine daily gas nomination</td>\n",
       "      <td>- calpine daily gas nomination 1 . doc</td>\n",
       "      <td>ham</td>\n",
       "      <td>1999-12-14</td>\n",
       "    </tr>\n",
       "    <tr>\n",
       "      <th>3</th>\n",
       "      <td>3</td>\n",
       "      <td>re : issue</td>\n",
       "      <td>fyi - see note below - already done .\\nstella\\...</td>\n",
       "      <td>ham</td>\n",
       "      <td>1999-12-14</td>\n",
       "    </tr>\n",
       "    <tr>\n",
       "      <th>4</th>\n",
       "      <td>4</td>\n",
       "      <td>meter 7268 nov allocation</td>\n",
       "      <td>fyi .\\n- - - - - - - - - - - - - - - - - - - -...</td>\n",
       "      <td>ham</td>\n",
       "      <td>1999-12-14</td>\n",
       "    </tr>\n",
       "    <tr>\n",
       "      <th>5</th>\n",
       "      <td>5</td>\n",
       "      <td>mcmullen gas for 11 / 99</td>\n",
       "      <td>jackie ,\\nsince the inlet to 3 river plant is ...</td>\n",
       "      <td>ham</td>\n",
       "      <td>1999-12-14</td>\n",
       "    </tr>\n",
       "    <tr>\n",
       "      <th>...</th>\n",
       "      <td>...</td>\n",
       "      <td>...</td>\n",
       "      <td>...</td>\n",
       "      <td>...</td>\n",
       "      <td>...</td>\n",
       "    </tr>\n",
       "    <tr>\n",
       "      <th>33711</th>\n",
       "      <td>33711</td>\n",
       "      <td>= ? iso - 8859 - 1 ? q ? good _ news _ c = eda...</td>\n",
       "      <td>hello , welcome to gigapharm onlinne shop .\\np...</td>\n",
       "      <td>spam</td>\n",
       "      <td>2005-07-29</td>\n",
       "    </tr>\n",
       "    <tr>\n",
       "      <th>33712</th>\n",
       "      <td>33712</td>\n",
       "      <td>all prescript medicines are on special . to be...</td>\n",
       "      <td>i got it earlier than expected and it was wrap...</td>\n",
       "      <td>spam</td>\n",
       "      <td>2005-07-29</td>\n",
       "    </tr>\n",
       "    <tr>\n",
       "      <th>33713</th>\n",
       "      <td>33713</td>\n",
       "      <td>the next generation online pharmacy .</td>\n",
       "      <td>are you ready to rock on ? let the man in you ...</td>\n",
       "      <td>spam</td>\n",
       "      <td>2005-07-30</td>\n",
       "    </tr>\n",
       "    <tr>\n",
       "      <th>33714</th>\n",
       "      <td>33714</td>\n",
       "      <td>bloow in 5 - 10 times the time</td>\n",
       "      <td>learn how to last 5 - 10 times longer in\\nbed ...</td>\n",
       "      <td>spam</td>\n",
       "      <td>2005-07-30</td>\n",
       "    </tr>\n",
       "    <tr>\n",
       "      <th>33715</th>\n",
       "      <td>33715</td>\n",
       "      <td>dear sir , i am interested in it</td>\n",
       "      <td>hi : )\\ndo you need some softwares ? i can giv...</td>\n",
       "      <td>spam</td>\n",
       "      <td>2005-07-31</td>\n",
       "    </tr>\n",
       "  </tbody>\n",
       "</table>\n",
       "<p>33107 rows × 5 columns</p>\n",
       "</div>"
      ],
      "text/plain": [
       "       Message ID                                            Subject  \\\n",
       "1               1                           vastar resources , inc .   \n",
       "2               2                       calpine daily gas nomination   \n",
       "3               3                                         re : issue   \n",
       "4               4                          meter 7268 nov allocation   \n",
       "5               5                           mcmullen gas for 11 / 99   \n",
       "...           ...                                                ...   \n",
       "33711       33711  = ? iso - 8859 - 1 ? q ? good _ news _ c = eda...   \n",
       "33712       33712  all prescript medicines are on special . to be...   \n",
       "33713       33713              the next generation online pharmacy .   \n",
       "33714       33714                     bloow in 5 - 10 times the time   \n",
       "33715       33715                   dear sir , i am interested in it   \n",
       "\n",
       "                                                 Message Spam/Ham        Date  \n",
       "1      gary , production from the high island larger ...      ham  1999-12-13  \n",
       "2                 - calpine daily gas nomination 1 . doc      ham  1999-12-14  \n",
       "3      fyi - see note below - already done .\\nstella\\...      ham  1999-12-14  \n",
       "4      fyi .\\n- - - - - - - - - - - - - - - - - - - -...      ham  1999-12-14  \n",
       "5      jackie ,\\nsince the inlet to 3 river plant is ...      ham  1999-12-14  \n",
       "...                                                  ...      ...         ...  \n",
       "33711  hello , welcome to gigapharm onlinne shop .\\np...     spam  2005-07-29  \n",
       "33712  i got it earlier than expected and it was wrap...     spam  2005-07-29  \n",
       "33713  are you ready to rock on ? let the man in you ...     spam  2005-07-30  \n",
       "33714  learn how to last 5 - 10 times longer in\\nbed ...     spam  2005-07-30  \n",
       "33715  hi : )\\ndo you need some softwares ? i can giv...     spam  2005-07-31  \n",
       "\n",
       "[33107 rows x 5 columns]"
      ]
     },
     "execution_count": 9,
     "metadata": {},
     "output_type": "execute_result"
    }
   ],
   "source": [
    "df"
   ]
  },
  {
   "cell_type": "code",
   "execution_count": 10,
   "id": "2d8be28b",
   "metadata": {},
   "outputs": [
    {
     "data": {
      "text/plain": [
       "Index(['Message ID', 'Subject', 'Message', 'Spam/Ham', 'Date'], dtype='object')"
      ]
     },
     "execution_count": 10,
     "metadata": {},
     "output_type": "execute_result"
    }
   ],
   "source": [
    "df.columns"
   ]
  },
  {
   "cell_type": "code",
   "execution_count": 11,
   "id": "4d3b49ab",
   "metadata": {},
   "outputs": [
    {
     "data": {
      "text/plain": [
       "spam    16614\n",
       "ham     16493\n",
       "Name: Spam/Ham, dtype: int64"
      ]
     },
     "execution_count": 11,
     "metadata": {},
     "output_type": "execute_result"
    }
   ],
   "source": [
    "df['Spam/Ham'].value_counts()"
   ]
  },
  {
   "cell_type": "markdown",
   "id": "92da2559",
   "metadata": {},
   "source": [
    "## Make the Count Vectorizer"
   ]
  },
  {
   "cell_type": "code",
   "execution_count": 12,
   "id": "67dc7f0e",
   "metadata": {},
   "outputs": [],
   "source": [
    "from sklearn.feature_extraction.text import CountVectorizer\n",
    "count = CountVectorizer(ngram_range=(1,4), stop_words='english', strip_accents='unicode', max_features=10000)"
   ]
  },
  {
   "cell_type": "code",
   "execution_count": 13,
   "id": "de30a462",
   "metadata": {},
   "outputs": [],
   "source": [
    "bow = count.fit_transform(df['Spam/Ham'])"
   ]
  },
  {
   "cell_type": "code",
   "execution_count": 14,
   "id": "99a1c746",
   "metadata": {},
   "outputs": [
    {
     "data": {
      "text/plain": [
       "<33107x2 sparse matrix of type '<class 'numpy.int64'>'\n",
       "\twith 33107 stored elements in Compressed Sparse Row format>"
      ]
     },
     "execution_count": 14,
     "metadata": {},
     "output_type": "execute_result"
    }
   ],
   "source": [
    "bow"
   ]
  },
  {
   "cell_type": "code",
   "execution_count": 15,
   "id": "282156fd",
   "metadata": {},
   "outputs": [
    {
     "data": {
      "text/plain": [
       "array([[1, 0],\n",
       "       [1, 0],\n",
       "       [1, 0],\n",
       "       ...,\n",
       "       [0, 1],\n",
       "       [0, 1],\n",
       "       [0, 1]], dtype=int64)"
      ]
     },
     "execution_count": 15,
     "metadata": {},
     "output_type": "execute_result"
    }
   ],
   "source": [
    "bow.toarray()"
   ]
  },
  {
   "cell_type": "markdown",
   "id": "cf7ad854",
   "metadata": {},
   "source": [
    "# Innitialize the model"
   ]
  },
  {
   "cell_type": "code",
   "execution_count": 16,
   "id": "4f76959e",
   "metadata": {},
   "outputs": [],
   "source": [
    "from sklearn.naive_bayes import MultinomialNB\n",
    "model = MultinomialNB()"
   ]
  },
  {
   "cell_type": "code",
   "execution_count": 17,
   "id": "c46854dd",
   "metadata": {},
   "outputs": [],
   "source": [
    "df['label'] = df['Spam/Ham'].map({\n",
    "    'ham':1,\n",
    "    'spam':0\n",
    "})"
   ]
  },
  {
   "cell_type": "code",
   "execution_count": 18,
   "id": "7d63759f",
   "metadata": {},
   "outputs": [
    {
     "data": {
      "text/html": [
       "<div>\n",
       "<style scoped>\n",
       "    .dataframe tbody tr th:only-of-type {\n",
       "        vertical-align: middle;\n",
       "    }\n",
       "\n",
       "    .dataframe tbody tr th {\n",
       "        vertical-align: top;\n",
       "    }\n",
       "\n",
       "    .dataframe thead th {\n",
       "        text-align: right;\n",
       "    }\n",
       "</style>\n",
       "<table border=\"1\" class=\"dataframe\">\n",
       "  <thead>\n",
       "    <tr style=\"text-align: right;\">\n",
       "      <th></th>\n",
       "      <th>Message ID</th>\n",
       "      <th>Subject</th>\n",
       "      <th>Message</th>\n",
       "      <th>Spam/Ham</th>\n",
       "      <th>Date</th>\n",
       "      <th>label</th>\n",
       "    </tr>\n",
       "  </thead>\n",
       "  <tbody>\n",
       "    <tr>\n",
       "      <th>1</th>\n",
       "      <td>1</td>\n",
       "      <td>vastar resources , inc .</td>\n",
       "      <td>gary , production from the high island larger ...</td>\n",
       "      <td>ham</td>\n",
       "      <td>1999-12-13</td>\n",
       "      <td>1</td>\n",
       "    </tr>\n",
       "    <tr>\n",
       "      <th>2</th>\n",
       "      <td>2</td>\n",
       "      <td>calpine daily gas nomination</td>\n",
       "      <td>- calpine daily gas nomination 1 . doc</td>\n",
       "      <td>ham</td>\n",
       "      <td>1999-12-14</td>\n",
       "      <td>1</td>\n",
       "    </tr>\n",
       "    <tr>\n",
       "      <th>3</th>\n",
       "      <td>3</td>\n",
       "      <td>re : issue</td>\n",
       "      <td>fyi - see note below - already done .\\nstella\\...</td>\n",
       "      <td>ham</td>\n",
       "      <td>1999-12-14</td>\n",
       "      <td>1</td>\n",
       "    </tr>\n",
       "    <tr>\n",
       "      <th>4</th>\n",
       "      <td>4</td>\n",
       "      <td>meter 7268 nov allocation</td>\n",
       "      <td>fyi .\\n- - - - - - - - - - - - - - - - - - - -...</td>\n",
       "      <td>ham</td>\n",
       "      <td>1999-12-14</td>\n",
       "      <td>1</td>\n",
       "    </tr>\n",
       "    <tr>\n",
       "      <th>5</th>\n",
       "      <td>5</td>\n",
       "      <td>mcmullen gas for 11 / 99</td>\n",
       "      <td>jackie ,\\nsince the inlet to 3 river plant is ...</td>\n",
       "      <td>ham</td>\n",
       "      <td>1999-12-14</td>\n",
       "      <td>1</td>\n",
       "    </tr>\n",
       "    <tr>\n",
       "      <th>...</th>\n",
       "      <td>...</td>\n",
       "      <td>...</td>\n",
       "      <td>...</td>\n",
       "      <td>...</td>\n",
       "      <td>...</td>\n",
       "      <td>...</td>\n",
       "    </tr>\n",
       "    <tr>\n",
       "      <th>33711</th>\n",
       "      <td>33711</td>\n",
       "      <td>= ? iso - 8859 - 1 ? q ? good _ news _ c = eda...</td>\n",
       "      <td>hello , welcome to gigapharm onlinne shop .\\np...</td>\n",
       "      <td>spam</td>\n",
       "      <td>2005-07-29</td>\n",
       "      <td>0</td>\n",
       "    </tr>\n",
       "    <tr>\n",
       "      <th>33712</th>\n",
       "      <td>33712</td>\n",
       "      <td>all prescript medicines are on special . to be...</td>\n",
       "      <td>i got it earlier than expected and it was wrap...</td>\n",
       "      <td>spam</td>\n",
       "      <td>2005-07-29</td>\n",
       "      <td>0</td>\n",
       "    </tr>\n",
       "    <tr>\n",
       "      <th>33713</th>\n",
       "      <td>33713</td>\n",
       "      <td>the next generation online pharmacy .</td>\n",
       "      <td>are you ready to rock on ? let the man in you ...</td>\n",
       "      <td>spam</td>\n",
       "      <td>2005-07-30</td>\n",
       "      <td>0</td>\n",
       "    </tr>\n",
       "    <tr>\n",
       "      <th>33714</th>\n",
       "      <td>33714</td>\n",
       "      <td>bloow in 5 - 10 times the time</td>\n",
       "      <td>learn how to last 5 - 10 times longer in\\nbed ...</td>\n",
       "      <td>spam</td>\n",
       "      <td>2005-07-30</td>\n",
       "      <td>0</td>\n",
       "    </tr>\n",
       "    <tr>\n",
       "      <th>33715</th>\n",
       "      <td>33715</td>\n",
       "      <td>dear sir , i am interested in it</td>\n",
       "      <td>hi : )\\ndo you need some softwares ? i can giv...</td>\n",
       "      <td>spam</td>\n",
       "      <td>2005-07-31</td>\n",
       "      <td>0</td>\n",
       "    </tr>\n",
       "  </tbody>\n",
       "</table>\n",
       "<p>33107 rows × 6 columns</p>\n",
       "</div>"
      ],
      "text/plain": [
       "       Message ID                                            Subject  \\\n",
       "1               1                           vastar resources , inc .   \n",
       "2               2                       calpine daily gas nomination   \n",
       "3               3                                         re : issue   \n",
       "4               4                          meter 7268 nov allocation   \n",
       "5               5                           mcmullen gas for 11 / 99   \n",
       "...           ...                                                ...   \n",
       "33711       33711  = ? iso - 8859 - 1 ? q ? good _ news _ c = eda...   \n",
       "33712       33712  all prescript medicines are on special . to be...   \n",
       "33713       33713              the next generation online pharmacy .   \n",
       "33714       33714                     bloow in 5 - 10 times the time   \n",
       "33715       33715                   dear sir , i am interested in it   \n",
       "\n",
       "                                                 Message Spam/Ham        Date  \\\n",
       "1      gary , production from the high island larger ...      ham  1999-12-13   \n",
       "2                 - calpine daily gas nomination 1 . doc      ham  1999-12-14   \n",
       "3      fyi - see note below - already done .\\nstella\\...      ham  1999-12-14   \n",
       "4      fyi .\\n- - - - - - - - - - - - - - - - - - - -...      ham  1999-12-14   \n",
       "5      jackie ,\\nsince the inlet to 3 river plant is ...      ham  1999-12-14   \n",
       "...                                                  ...      ...         ...   \n",
       "33711  hello , welcome to gigapharm onlinne shop .\\np...     spam  2005-07-29   \n",
       "33712  i got it earlier than expected and it was wrap...     spam  2005-07-29   \n",
       "33713  are you ready to rock on ? let the man in you ...     spam  2005-07-30   \n",
       "33714  learn how to last 5 - 10 times longer in\\nbed ...     spam  2005-07-30   \n",
       "33715  hi : )\\ndo you need some softwares ? i can giv...     spam  2005-07-31   \n",
       "\n",
       "       label  \n",
       "1          1  \n",
       "2          1  \n",
       "3          1  \n",
       "4          1  \n",
       "5          1  \n",
       "...      ...  \n",
       "33711      0  \n",
       "33712      0  \n",
       "33713      0  \n",
       "33714      0  \n",
       "33715      0  \n",
       "\n",
       "[33107 rows x 6 columns]"
      ]
     },
     "execution_count": 18,
     "metadata": {},
     "output_type": "execute_result"
    }
   ],
   "source": [
    "df"
   ]
  },
  {
   "cell_type": "markdown",
   "id": "d1375719",
   "metadata": {},
   "source": [
    "## Asign features"
   ]
  },
  {
   "cell_type": "code",
   "execution_count": 19,
   "id": "e426240e",
   "metadata": {},
   "outputs": [],
   "source": [
    "x = df[['Subject','Message']]\n",
    "y = df.label"
   ]
  },
  {
   "cell_type": "code",
   "execution_count": 20,
   "id": "89381528",
   "metadata": {},
   "outputs": [
    {
     "data": {
      "text/html": [
       "<div>\n",
       "<style scoped>\n",
       "    .dataframe tbody tr th:only-of-type {\n",
       "        vertical-align: middle;\n",
       "    }\n",
       "\n",
       "    .dataframe tbody tr th {\n",
       "        vertical-align: top;\n",
       "    }\n",
       "\n",
       "    .dataframe thead th {\n",
       "        text-align: right;\n",
       "    }\n",
       "</style>\n",
       "<table border=\"1\" class=\"dataframe\">\n",
       "  <thead>\n",
       "    <tr style=\"text-align: right;\">\n",
       "      <th></th>\n",
       "      <th>Subject</th>\n",
       "      <th>Message</th>\n",
       "    </tr>\n",
       "  </thead>\n",
       "  <tbody>\n",
       "    <tr>\n",
       "      <th>1</th>\n",
       "      <td>vastar resources , inc .</td>\n",
       "      <td>gary , production from the high island larger ...</td>\n",
       "    </tr>\n",
       "    <tr>\n",
       "      <th>2</th>\n",
       "      <td>calpine daily gas nomination</td>\n",
       "      <td>- calpine daily gas nomination 1 . doc</td>\n",
       "    </tr>\n",
       "    <tr>\n",
       "      <th>3</th>\n",
       "      <td>re : issue</td>\n",
       "      <td>fyi - see note below - already done .\\nstella\\...</td>\n",
       "    </tr>\n",
       "    <tr>\n",
       "      <th>4</th>\n",
       "      <td>meter 7268 nov allocation</td>\n",
       "      <td>fyi .\\n- - - - - - - - - - - - - - - - - - - -...</td>\n",
       "    </tr>\n",
       "    <tr>\n",
       "      <th>5</th>\n",
       "      <td>mcmullen gas for 11 / 99</td>\n",
       "      <td>jackie ,\\nsince the inlet to 3 river plant is ...</td>\n",
       "    </tr>\n",
       "    <tr>\n",
       "      <th>...</th>\n",
       "      <td>...</td>\n",
       "      <td>...</td>\n",
       "    </tr>\n",
       "    <tr>\n",
       "      <th>33711</th>\n",
       "      <td>= ? iso - 8859 - 1 ? q ? good _ news _ c = eda...</td>\n",
       "      <td>hello , welcome to gigapharm onlinne shop .\\np...</td>\n",
       "    </tr>\n",
       "    <tr>\n",
       "      <th>33712</th>\n",
       "      <td>all prescript medicines are on special . to be...</td>\n",
       "      <td>i got it earlier than expected and it was wrap...</td>\n",
       "    </tr>\n",
       "    <tr>\n",
       "      <th>33713</th>\n",
       "      <td>the next generation online pharmacy .</td>\n",
       "      <td>are you ready to rock on ? let the man in you ...</td>\n",
       "    </tr>\n",
       "    <tr>\n",
       "      <th>33714</th>\n",
       "      <td>bloow in 5 - 10 times the time</td>\n",
       "      <td>learn how to last 5 - 10 times longer in\\nbed ...</td>\n",
       "    </tr>\n",
       "    <tr>\n",
       "      <th>33715</th>\n",
       "      <td>dear sir , i am interested in it</td>\n",
       "      <td>hi : )\\ndo you need some softwares ? i can giv...</td>\n",
       "    </tr>\n",
       "  </tbody>\n",
       "</table>\n",
       "<p>33107 rows × 2 columns</p>\n",
       "</div>"
      ],
      "text/plain": [
       "                                                 Subject  \\\n",
       "1                               vastar resources , inc .   \n",
       "2                           calpine daily gas nomination   \n",
       "3                                             re : issue   \n",
       "4                              meter 7268 nov allocation   \n",
       "5                               mcmullen gas for 11 / 99   \n",
       "...                                                  ...   \n",
       "33711  = ? iso - 8859 - 1 ? q ? good _ news _ c = eda...   \n",
       "33712  all prescript medicines are on special . to be...   \n",
       "33713              the next generation online pharmacy .   \n",
       "33714                     bloow in 5 - 10 times the time   \n",
       "33715                   dear sir , i am interested in it   \n",
       "\n",
       "                                                 Message  \n",
       "1      gary , production from the high island larger ...  \n",
       "2                 - calpine daily gas nomination 1 . doc  \n",
       "3      fyi - see note below - already done .\\nstella\\...  \n",
       "4      fyi .\\n- - - - - - - - - - - - - - - - - - - -...  \n",
       "5      jackie ,\\nsince the inlet to 3 river plant is ...  \n",
       "...                                                  ...  \n",
       "33711  hello , welcome to gigapharm onlinne shop .\\np...  \n",
       "33712  i got it earlier than expected and it was wrap...  \n",
       "33713  are you ready to rock on ? let the man in you ...  \n",
       "33714  learn how to last 5 - 10 times longer in\\nbed ...  \n",
       "33715  hi : )\\ndo you need some softwares ? i can giv...  \n",
       "\n",
       "[33107 rows x 2 columns]"
      ]
     },
     "execution_count": 20,
     "metadata": {},
     "output_type": "execute_result"
    }
   ],
   "source": [
    "x"
   ]
  },
  {
   "cell_type": "code",
   "execution_count": 21,
   "id": "6e091d5a",
   "metadata": {},
   "outputs": [
    {
     "data": {
      "text/plain": [
       "1        1\n",
       "2        1\n",
       "3        1\n",
       "4        1\n",
       "5        1\n",
       "        ..\n",
       "33711    0\n",
       "33712    0\n",
       "33713    0\n",
       "33714    0\n",
       "33715    0\n",
       "Name: label, Length: 33107, dtype: int64"
      ]
     },
     "execution_count": 21,
     "metadata": {},
     "output_type": "execute_result"
    }
   ],
   "source": [
    "y"
   ]
  },
  {
   "cell_type": "markdown",
   "id": "7c7b323b",
   "metadata": {},
   "source": [
    "## Transform the features"
   ]
  },
  {
   "cell_type": "code",
   "execution_count": 22,
   "id": "e6bf6ad9",
   "metadata": {},
   "outputs": [],
   "source": [
    "x = count.fit_transform(df.Message, df.Subject)"
   ]
  },
  {
   "cell_type": "markdown",
   "id": "6f5166e4",
   "metadata": {},
   "source": [
    "## Make training and testing sets"
   ]
  },
  {
   "cell_type": "code",
   "execution_count": 23,
   "id": "b73260db",
   "metadata": {},
   "outputs": [],
   "source": [
    "from sklearn.model_selection import train_test_split\n",
    "x_train,x_test,y_train,y_test = train_test_split(x,y, test_size=0.20, random_state=42)"
   ]
  },
  {
   "cell_type": "markdown",
   "id": "70c0307b",
   "metadata": {},
   "source": [
    "## Train the model"
   ]
  },
  {
   "cell_type": "code",
   "execution_count": 24,
   "id": "ab069775",
   "metadata": {},
   "outputs": [
    {
     "data": {
      "text/html": [
       "<style>#sk-container-id-1 {color: black;background-color: white;}#sk-container-id-1 pre{padding: 0;}#sk-container-id-1 div.sk-toggleable {background-color: white;}#sk-container-id-1 label.sk-toggleable__label {cursor: pointer;display: block;width: 100%;margin-bottom: 0;padding: 0.3em;box-sizing: border-box;text-align: center;}#sk-container-id-1 label.sk-toggleable__label-arrow:before {content: \"▸\";float: left;margin-right: 0.25em;color: #696969;}#sk-container-id-1 label.sk-toggleable__label-arrow:hover:before {color: black;}#sk-container-id-1 div.sk-estimator:hover label.sk-toggleable__label-arrow:before {color: black;}#sk-container-id-1 div.sk-toggleable__content {max-height: 0;max-width: 0;overflow: hidden;text-align: left;background-color: #f0f8ff;}#sk-container-id-1 div.sk-toggleable__content pre {margin: 0.2em;color: black;border-radius: 0.25em;background-color: #f0f8ff;}#sk-container-id-1 input.sk-toggleable__control:checked~div.sk-toggleable__content {max-height: 200px;max-width: 100%;overflow: auto;}#sk-container-id-1 input.sk-toggleable__control:checked~label.sk-toggleable__label-arrow:before {content: \"▾\";}#sk-container-id-1 div.sk-estimator input.sk-toggleable__control:checked~label.sk-toggleable__label {background-color: #d4ebff;}#sk-container-id-1 div.sk-label input.sk-toggleable__control:checked~label.sk-toggleable__label {background-color: #d4ebff;}#sk-container-id-1 input.sk-hidden--visually {border: 0;clip: rect(1px 1px 1px 1px);clip: rect(1px, 1px, 1px, 1px);height: 1px;margin: -1px;overflow: hidden;padding: 0;position: absolute;width: 1px;}#sk-container-id-1 div.sk-estimator {font-family: monospace;background-color: #f0f8ff;border: 1px dotted black;border-radius: 0.25em;box-sizing: border-box;margin-bottom: 0.5em;}#sk-container-id-1 div.sk-estimator:hover {background-color: #d4ebff;}#sk-container-id-1 div.sk-parallel-item::after {content: \"\";width: 100%;border-bottom: 1px solid gray;flex-grow: 1;}#sk-container-id-1 div.sk-label:hover label.sk-toggleable__label {background-color: #d4ebff;}#sk-container-id-1 div.sk-serial::before {content: \"\";position: absolute;border-left: 1px solid gray;box-sizing: border-box;top: 0;bottom: 0;left: 50%;z-index: 0;}#sk-container-id-1 div.sk-serial {display: flex;flex-direction: column;align-items: center;background-color: white;padding-right: 0.2em;padding-left: 0.2em;position: relative;}#sk-container-id-1 div.sk-item {position: relative;z-index: 1;}#sk-container-id-1 div.sk-parallel {display: flex;align-items: stretch;justify-content: center;background-color: white;position: relative;}#sk-container-id-1 div.sk-item::before, #sk-container-id-1 div.sk-parallel-item::before {content: \"\";position: absolute;border-left: 1px solid gray;box-sizing: border-box;top: 0;bottom: 0;left: 50%;z-index: -1;}#sk-container-id-1 div.sk-parallel-item {display: flex;flex-direction: column;z-index: 1;position: relative;background-color: white;}#sk-container-id-1 div.sk-parallel-item:first-child::after {align-self: flex-end;width: 50%;}#sk-container-id-1 div.sk-parallel-item:last-child::after {align-self: flex-start;width: 50%;}#sk-container-id-1 div.sk-parallel-item:only-child::after {width: 0;}#sk-container-id-1 div.sk-dashed-wrapped {border: 1px dashed gray;margin: 0 0.4em 0.5em 0.4em;box-sizing: border-box;padding-bottom: 0.4em;background-color: white;}#sk-container-id-1 div.sk-label label {font-family: monospace;font-weight: bold;display: inline-block;line-height: 1.2em;}#sk-container-id-1 div.sk-label-container {text-align: center;}#sk-container-id-1 div.sk-container {/* jupyter's `normalize.less` sets `[hidden] { display: none; }` but bootstrap.min.css set `[hidden] { display: none !important; }` so we also need the `!important` here to be able to override the default hidden behavior on the sphinx rendered scikit-learn.org. See: https://github.com/scikit-learn/scikit-learn/issues/21755 */display: inline-block !important;position: relative;}#sk-container-id-1 div.sk-text-repr-fallback {display: none;}</style><div id=\"sk-container-id-1\" class=\"sk-top-container\"><div class=\"sk-text-repr-fallback\"><pre>MultinomialNB()</pre><b>In a Jupyter environment, please rerun this cell to show the HTML representation or trust the notebook. <br />On GitHub, the HTML representation is unable to render, please try loading this page with nbviewer.org.</b></div><div class=\"sk-container\" hidden><div class=\"sk-item\"><div class=\"sk-estimator sk-toggleable\"><input class=\"sk-toggleable__control sk-hidden--visually\" id=\"sk-estimator-id-1\" type=\"checkbox\" checked><label for=\"sk-estimator-id-1\" class=\"sk-toggleable__label sk-toggleable__label-arrow\">MultinomialNB</label><div class=\"sk-toggleable__content\"><pre>MultinomialNB()</pre></div></div></div></div></div>"
      ],
      "text/plain": [
       "MultinomialNB()"
      ]
     },
     "execution_count": 24,
     "metadata": {},
     "output_type": "execute_result"
    }
   ],
   "source": [
    "model.fit(x_train,y_train)"
   ]
  },
  {
   "cell_type": "code",
   "execution_count": 25,
   "id": "3e4eed43",
   "metadata": {},
   "outputs": [],
   "source": [
    "y_pred = model.predict(x_test)"
   ]
  },
  {
   "cell_type": "markdown",
   "id": "d7bb2441",
   "metadata": {},
   "source": [
    "## Check accuracy and evaluate further if necessary"
   ]
  },
  {
   "cell_type": "code",
   "execution_count": 26,
   "id": "8e1364bd",
   "metadata": {},
   "outputs": [],
   "source": [
    "from sklearn import metrics"
   ]
  },
  {
   "cell_type": "code",
   "execution_count": 27,
   "id": "216009d6",
   "metadata": {},
   "outputs": [
    {
     "data": {
      "text/plain": [
       "0.973421926910299"
      ]
     },
     "execution_count": 27,
     "metadata": {},
     "output_type": "execute_result"
    }
   ],
   "source": [
    "metrics.accuracy_score(y_pred,y_test)"
   ]
  },
  {
   "cell_type": "code",
   "execution_count": 28,
   "id": "832fd792",
   "metadata": {},
   "outputs": [
    {
     "data": {
      "text/plain": [
       "<Axes: >"
      ]
     },
     "execution_count": 28,
     "metadata": {},
     "output_type": "execute_result"
    },
    {
     "data": {
      "image/png": "[encoded data removed]",
      "text/plain": [
       "<Figure size 640x480 with 2 Axes>"
      ]
     },
     "metadata": {},
     "output_type": "display_data"
    }
   ],
   "source": [
    "sns.heatmap(metrics.confusion_matrix(y_pred,y_test), annot=True, cmap='Blues')"
   ]
  },
  {
   "cell_type": "code",
   "execution_count": null,
   "id": "b8e73cfc",
   "metadata": {},
   "outputs": [],
   "source": []
  }
 ],
 "metadata": {
  "kernelspec": {
   "display_name": "Python 3 (ipykernel)",
   "language": "python",
   "name": "python3"
  },
  "language_info": {
   "codemirror_mode": {
    "name": "ipython",
    "version": 3
   },
   "file_extension": ".py",
   "mimetype": "text/x-python",
   "name": "python",
   "nbconvert_exporter": "python",
   "pygments_lexer": "ipython3",
   "version": "3.10.9"
  }
 },
 "nbformat": 4,
 "nbformat_minor": 5
}
